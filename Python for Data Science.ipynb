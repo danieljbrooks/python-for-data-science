{
 "cells": [
  {
   "cell_type": "markdown",
   "metadata": {},
   "source": [
    "<b> Python for Data Science </b><br>\n",
    "November 2, 2018<br>\n",
    "daniel.brooks@alumni.caltech.edu<br>"
   ]
  },
  {
   "cell_type": "markdown",
   "metadata": {},
   "source": [
    "Data science is a rapidly growing field and the Python programming langauge is arguably the most popular analysis tool. Most of the data science professionals I have met are interested in learning more about best practices for writing python code. <br>\n",
    "\n",
    "This notebook covers the core data structures and algorithms in python, best practices for style, and several example machine learning problems. Is is suitable for beginners, as an introduction to Python, or more advanced users, with suggestions on best practices.<br><br>"
   ]
  },
  {
   "cell_type": "markdown",
   "metadata": {},
   "source": [
    "<b> 1. </b> <u>Setting up Python and Jupyter Notebooks</u>\n",
    "\n",
    "If you need to install python, the Anaconda distribution is the recommended source. <br>\n",
    "\n",
    "Download it from: https://www.anaconda.com/download/ <br>\n",
    "\n",
    "Once Anaconda is installed, run a Jupyter Notebook by typing \"jupyter notebook\" into Anaconda Prompt (Windows) or Terminal (Mac). <br>\n",
    "\n",
    "Jupyter will open a new notebook (that looks like this one). These notebooks contain a mix of python code, text, and graphs and visualizations. They are useful for examining data and quick prototyping.<br><br>"
   ]
  },
  {
   "cell_type": "markdown",
   "metadata": {},
   "source": [
    "<b> 2. </b> <u>Data Structures</u> <br>\n"
   ]
  },
  {
   "cell_type": "code",
   "execution_count": 1,
   "metadata": {},
   "outputs": [],
   "source": [
    "#Context: Data Science as a field. Python as a popular tool. Gap on computer science education. \n",
    "#Notebook on python for data science. Suitable for beginners or more advanced users. Syntax/best practices.\n",
    "\n",
    "#1. Setting up Python and Jupyter.\n",
    "#2. Data structures. (Lists, Dictionaries).\n",
    "#3. Simple algorithms / functions. \n",
    "#4. Style guidelines, PEP8. \n",
    "#5. Basic version control with git.\n",
    "#6. Abstraction in python. Classes, modules.\n",
    "#7. The machine learning process. \n",
    "#8. Pandas and exploratory data analysis. \n",
    "#9. Fitting a linear model. \n",
    "#10. Convolutional neural networks.\n",
    "#11. A classification network in Keras. "
   ]
  },
  {
   "cell_type": "code",
   "execution_count": null,
   "metadata": {},
   "outputs": [],
   "source": []
  }
 ],
 "metadata": {
  "kernelspec": {
   "display_name": "Python 3",
   "language": "python",
   "name": "python3"
  },
  "language_info": {
   "codemirror_mode": {
    "name": "ipython",
    "version": 3
   },
   "file_extension": ".py",
   "mimetype": "text/x-python",
   "name": "python",
   "nbconvert_exporter": "python",
   "pygments_lexer": "ipython3",
   "version": "3.6.5"
  }
 },
 "nbformat": 4,
 "nbformat_minor": 2
}
